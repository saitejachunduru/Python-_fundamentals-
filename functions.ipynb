{
  "nbformat": 4,
  "nbformat_minor": 0,
  "metadata": {
    "colab": {
      "provenance": [],
      "authorship_tag": "ABX9TyMShcylB9bQe4974GeCd9tA",
      "include_colab_link": true
    },
    "kernelspec": {
      "name": "python3",
      "display_name": "Python 3"
    },
    "language_info": {
      "name": "python"
    }
  },
  "cells": [
    {
      "cell_type": "markdown",
      "metadata": {
        "id": "view-in-github",
        "colab_type": "text"
      },
      "source": [
        "<a href=\"https://colab.research.google.com/github/saitejachunduru/Python-_fundamentals-/blob/main/functions.ipynb\" target=\"_parent\"><img src=\"https://colab.research.google.com/assets/colab-badge.svg\" alt=\"Open In Colab\"/></a>"
      ]
    },
    {
      "cell_type": "code",
      "execution_count": 1,
      "metadata": {
        "colab": {
          "base_uri": "https://localhost:8080/"
        },
        "id": "gnxWdbSOrdOm",
        "outputId": "b5e9166c-5bc4-4445-80a4-0b444b6c41dc"
      },
      "outputs": [
        {
          "output_type": "stream",
          "name": "stdout",
          "text": [
            "this is sai\n"
          ]
        }
      ],
      "source": [
        "#defining a funtion\n",
        "def display():\n",
        "    print(\"this is sai\")\n",
        "\n",
        "#calling the function\n",
        "display()"
      ]
    },
    {
      "cell_type": "code",
      "source": [
        "def add(a,b):\n",
        "    print(a+b)"
      ],
      "metadata": {
        "id": "lAnbwr_GrglZ"
      },
      "execution_count": 2,
      "outputs": []
    },
    {
      "cell_type": "code",
      "source": [
        "add(1,2)"
      ],
      "metadata": {
        "colab": {
          "base_uri": "https://localhost:8080/"
        },
        "id": "0EeYihjarlU1",
        "outputId": "c7fd07ff-048c-44bc-94d1-817759a89258"
      },
      "execution_count": 3,
      "outputs": [
        {
          "output_type": "stream",
          "name": "stdout",
          "text": [
            "3\n"
          ]
        }
      ]
    },
    {
      "cell_type": "code",
      "source": [
        "def add(a,b): #defining a function\n",
        "    print(a+b)\n",
        "\n",
        "#how to take values from user (user defined)\n",
        "a = int(input(\"enter 1st num \"))\n",
        "b = int(input(\"enter 2st num \"))\n",
        "add(a,b)"
      ],
      "metadata": {
        "colab": {
          "base_uri": "https://localhost:8080/"
        },
        "id": "C7lnFyZernRc",
        "outputId": "2dfb5b07-eb90-4c26-90a5-5dd9b1f04ec3"
      },
      "execution_count": 7,
      "outputs": [
        {
          "output_type": "stream",
          "name": "stdout",
          "text": [
            "enter 1st num 2\n",
            "enter 2st num 5\n",
            "7\n"
          ]
        }
      ]
    },
    {
      "cell_type": "code",
      "source": [],
      "metadata": {
        "id": "YIcwaGhlsYWH"
      },
      "execution_count": null,
      "outputs": []
    }
  ]
}