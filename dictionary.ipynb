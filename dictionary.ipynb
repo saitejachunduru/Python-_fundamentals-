{
  "nbformat": 4,
  "nbformat_minor": 0,
  "metadata": {
    "colab": {
      "provenance": [],
      "authorship_tag": "ABX9TyOu/QMHa6aqG7Oxc/po3b99",
      "include_colab_link": true
    },
    "kernelspec": {
      "name": "python3",
      "display_name": "Python 3"
    },
    "language_info": {
      "name": "python"
    }
  },
  "cells": [
    {
      "cell_type": "markdown",
      "metadata": {
        "id": "view-in-github",
        "colab_type": "text"
      },
      "source": [
        "<a href=\"https://colab.research.google.com/github/saitejachunduru/Python-_fundamentals-/blob/main/dictionary.ipynb\" target=\"_parent\"><img src=\"https://colab.research.google.com/assets/colab-badge.svg\" alt=\"Open In Colab\"/></a>"
      ]
    },
    {
      "cell_type": "code",
      "execution_count": 1,
      "metadata": {
        "colab": {
          "base_uri": "https://localhost:8080/"
        },
        "id": "Ldv5amG4Y2B6",
        "outputId": "f09f51a1-9daf-4918-de7c-b4c021985c9f"
      },
      "outputs": [
        {
          "output_type": "stream",
          "name": "stdout",
          "text": [
            "('volvo', 'bmw', 'audi')\n",
            "('apple', 'mango', 'orange')\n"
          ]
        }
      ],
      "source": [
        "#swap two tuples\n",
        "x=(\"apple\",\"mango\",\"orange\")\n",
        "y=(\"volvo\",\"bmw\",\"audi\")\n",
        "a=x\n",
        "b=y\n",
        "y=a\n",
        "x=b\n",
        "print(x)\n",
        "print(y)"
      ]
    },
    {
      "cell_type": "code",
      "source": [
        "#how to create a dictionary\n",
        "thisdict = {\n",
        "    \"brand\" : \"ford\",\n",
        "    \"model\" : \"mustang\",\n",
        "    \"year\" : 1964\n",
        "}\n",
        "print(thisdict[\"year\"])"
      ],
      "metadata": {
        "colab": {
          "base_uri": "https://localhost:8080/"
        },
        "id": "gDDf5qEzayDx",
        "outputId": "6416e03a-41f5-4182-dbe4-375fd52a7093"
      },
      "execution_count": 4,
      "outputs": [
        {
          "output_type": "stream",
          "name": "stdout",
          "text": [
            "1964\n"
          ]
        }
      ]
    },
    {
      "cell_type": "code",
      "source": [
        "x = thisdict[\"brand\"]\n",
        "x"
      ],
      "metadata": {
        "colab": {
          "base_uri": "https://localhost:8080/",
          "height": 35
        },
        "id": "f3XYIDofc0FC",
        "outputId": "f5537209-9065-4f4f-dbd7-6b16136abb92"
      },
      "execution_count": 5,
      "outputs": [
        {
          "output_type": "execute_result",
          "data": {
            "text/plain": [
              "'ford'"
            ],
            "application/vnd.google.colaboratory.intrinsic+json": {
              "type": "string"
            }
          },
          "metadata": {},
          "execution_count": 5
        }
      ]
    },
    {
      "cell_type": "code",
      "source": [
        "#to display the key values\n",
        "x = thisdict.keys()\n",
        "x"
      ],
      "metadata": {
        "colab": {
          "base_uri": "https://localhost:8080/"
        },
        "id": "Ws51zbNudnkq",
        "outputId": "da1c854f-63ef-4ca3-fb73-87abc2935ef0"
      },
      "execution_count": 8,
      "outputs": [
        {
          "output_type": "execute_result",
          "data": {
            "text/plain": [
              "dict_keys(['brand', 'model', 'year'])"
            ]
          },
          "metadata": {},
          "execution_count": 8
        }
      ]
    },
    {
      "cell_type": "code",
      "source": [
        "y=thisdict.values()\n",
        "y"
      ],
      "metadata": {
        "colab": {
          "base_uri": "https://localhost:8080/"
        },
        "id": "LH-CMkcpdt4s",
        "outputId": "170a1c37-d2ba-4915-bedd-7abee382c943"
      },
      "execution_count": 11,
      "outputs": [
        {
          "output_type": "execute_result",
          "data": {
            "text/plain": [
              "dict_values(['ford', 'mustang', 1964])"
            ]
          },
          "metadata": {},
          "execution_count": 11
        }
      ]
    },
    {
      "cell_type": "code",
      "source": [
        "thisdict[\"model\"] = \"muscled\""
      ],
      "metadata": {
        "id": "BZELY4UPeHRg"
      },
      "execution_count": 13,
      "outputs": []
    },
    {
      "cell_type": "code",
      "source": [
        "thisdict[\"model\"]"
      ],
      "metadata": {
        "colab": {
          "base_uri": "https://localhost:8080/",
          "height": 35
        },
        "id": "lEqmJ6W0eXWd",
        "outputId": "e90f59dc-14b4-47ee-b367-a724a5c7c223"
      },
      "execution_count": 14,
      "outputs": [
        {
          "output_type": "execute_result",
          "data": {
            "text/plain": [
              "'muscled'"
            ],
            "application/vnd.google.colaboratory.intrinsic+json": {
              "type": "string"
            }
          },
          "metadata": {},
          "execution_count": 14
        }
      ]
    },
    {
      "cell_type": "code",
      "source": [
        "thisdict.update({\"year\":1999})\n",
        "thisdict"
      ],
      "metadata": {
        "colab": {
          "base_uri": "https://localhost:8080/"
        },
        "id": "y9QxuRKsedAU",
        "outputId": "e7047fd2-4d3b-4116-c132-5de36e2aafa4"
      },
      "execution_count": 16,
      "outputs": [
        {
          "output_type": "execute_result",
          "data": {
            "text/plain": [
              "{'brand': 'ford', 'model': 'muscled', 'year': 1999}"
            ]
          },
          "metadata": {},
          "execution_count": 16
        }
      ]
    },
    {
      "cell_type": "code",
      "source": [
        "#to add both key and pair value, update function is used\n",
        "thisdict.update({\"country\":\"india\"})\n",
        "thisdict"
      ],
      "metadata": {
        "colab": {
          "base_uri": "https://localhost:8080/"
        },
        "id": "1G7iuNbleoAV",
        "outputId": "0396253b-c540-46a8-aed5-85fd279f5d6b"
      },
      "execution_count": 17,
      "outputs": [
        {
          "output_type": "execute_result",
          "data": {
            "text/plain": [
              "{'brand': 'ford', 'model': 'muscled', 'year': 1999, 'country': 'india'}"
            ]
          },
          "metadata": {},
          "execution_count": 17
        }
      ]
    },
    {
      "cell_type": "code",
      "source": [
        "#pop function is used to remove item (both key and  value)\n",
        "thisdict.pop(\"year\")"
      ],
      "metadata": {
        "colab": {
          "base_uri": "https://localhost:8080/"
        },
        "id": "jJKIKQWye6Ae",
        "outputId": "1a456ef5-1652-40b6-f249-5094364b8d08"
      },
      "execution_count": 19,
      "outputs": [
        {
          "output_type": "execute_result",
          "data": {
            "text/plain": [
              "1999"
            ]
          },
          "metadata": {},
          "execution_count": 19
        }
      ]
    },
    {
      "cell_type": "code",
      "source": [
        "thisdict"
      ],
      "metadata": {
        "colab": {
          "base_uri": "https://localhost:8080/"
        },
        "id": "KzUQya0gfMF_",
        "outputId": "2fefbc7d-c3dc-4179-aeb5-b5cb2568f4c2"
      },
      "execution_count": 20,
      "outputs": [
        {
          "output_type": "execute_result",
          "data": {
            "text/plain": [
              "{'brand': 'ford', 'model': 'muscled', 'country': 'india'}"
            ]
          },
          "metadata": {},
          "execution_count": 20
        }
      ]
    },
    {
      "cell_type": "code",
      "source": [
        "#in sets pop function is used to remove random value"
      ],
      "metadata": {
        "id": "lR6GzVijfdZM"
      },
      "execution_count": null,
      "outputs": []
    },
    {
      "cell_type": "code",
      "source": [
        "#to add both key and pair value\n",
        "thisdict.update({\"year\":1999})\n",
        "thisdict"
      ],
      "metadata": {
        "colab": {
          "base_uri": "https://localhost:8080/"
        },
        "id": "zCjcyNfVfoQP",
        "outputId": "676e8397-7958-4b05-8388-4ddce07f965a"
      },
      "execution_count": 23,
      "outputs": [
        {
          "output_type": "execute_result",
          "data": {
            "text/plain": [
              "{'brand': 'ford', 'model': 'muscled', 'country': 'india', 'year': 1999}"
            ]
          },
          "metadata": {},
          "execution_count": 23
        }
      ]
    },
    {
      "cell_type": "code",
      "source": [
        "#to display all the values\n",
        "for x in thisdict.values():\n",
        "  print(x)"
      ],
      "metadata": {
        "colab": {
          "base_uri": "https://localhost:8080/"
        },
        "id": "jnMjFop_f5ks",
        "outputId": "45abf457-caeb-4ee3-d05f-f2b9bd4763de"
      },
      "execution_count": 27,
      "outputs": [
        {
          "output_type": "stream",
          "name": "stdout",
          "text": [
            "ford\n",
            "muscled\n",
            "india\n",
            "1999\n"
          ]
        }
      ]
    },
    {
      "cell_type": "code",
      "source": [
        "for x in thisdict.keys():\n",
        "  print(x)"
      ],
      "metadata": {
        "colab": {
          "base_uri": "https://localhost:8080/"
        },
        "id": "YHEZhRyygvcJ",
        "outputId": "9e398f49-5ca6-48c5-e921-fcd5e44866a7"
      },
      "execution_count": 28,
      "outputs": [
        {
          "output_type": "stream",
          "name": "stdout",
          "text": [
            "brand\n",
            "model\n",
            "country\n",
            "year\n"
          ]
        }
      ]
    },
    {
      "cell_type": "code",
      "source": [
        "for x in thisdict.items():\n",
        "  print(x)"
      ],
      "metadata": {
        "colab": {
          "base_uri": "https://localhost:8080/"
        },
        "id": "n3981bq_hBwP",
        "outputId": "2e7cd25d-dacf-467c-82d9-09ddc842f7e0"
      },
      "execution_count": 29,
      "outputs": [
        {
          "output_type": "stream",
          "name": "stdout",
          "text": [
            "('brand', 'ford')\n",
            "('model', 'muscled')\n",
            "('country', 'india')\n",
            "('year', 1999)\n"
          ]
        }
      ]
    },
    {
      "cell_type": "code",
      "source": [
        "mydict = thisdict.copy()\n",
        "mydict"
      ],
      "metadata": {
        "colab": {
          "base_uri": "https://localhost:8080/"
        },
        "id": "YVachNyZhEC2",
        "outputId": "2b2e7f2e-8481-4c81-ddb0-5bc15c779b3d"
      },
      "execution_count": 32,
      "outputs": [
        {
          "output_type": "execute_result",
          "data": {
            "text/plain": [
              "{'brand': 'ford', 'model': 'muscled', 'country': 'india', 'year': 1999}"
            ]
          },
          "metadata": {},
          "execution_count": 32
        }
      ]
    },
    {
      "cell_type": "code",
      "source": [
        "# creating Nested dictionary 1st type\n",
        "family = {\n",
        "    \"child1\" : {\n",
        "      \"name\" : \"teja\",\n",
        "       \"age\" : 24\n",
        "    },\n",
        "    \"child2\" : {\n",
        "      \"name\" : \"gow\",\n",
        "       \"age\" : 21\n",
        "    }\n",
        "}\n",
        "print(family)"
      ],
      "metadata": {
        "colab": {
          "base_uri": "https://localhost:8080/"
        },
        "id": "ZUvg7NLxhgRV",
        "outputId": "40897605-3b5a-437b-8e39-4a2b6e843a06"
      },
      "execution_count": 38,
      "outputs": [
        {
          "output_type": "stream",
          "name": "stdout",
          "text": [
            "{'child1': {'name': 'teja', 'age': 24}, 'child2': {'name': 'gow', 'age': 21}}\n"
          ]
        }
      ]
    },
    {
      "cell_type": "code",
      "source": [
        "# creating Nested dictionary 2nd type\n",
        "child1 = {\n",
        "    \"name\" : \"tej\",\n",
        "    \"year\" : 1999\n",
        "}\n",
        "child2 = {\n",
        "    \"name\" : \"gothami\",\n",
        "    \"year\" : 2003\n",
        "}\n",
        "\n",
        "family = {\n",
        "    \"child1\" : child1,\n",
        "    \"child2\" : child2,\n",
        "}\n",
        "print(family)"
      ],
      "metadata": {
        "colab": {
          "base_uri": "https://localhost:8080/"
        },
        "id": "2LBJ-a_Tiu6e",
        "outputId": "237d156c-e8ff-46ea-d331-2be5c0c961b2"
      },
      "execution_count": 39,
      "outputs": [
        {
          "output_type": "stream",
          "name": "stdout",
          "text": [
            "{'child1': {'name': 'tej', 'year': 1999}, 'child2': {'name': 'gothami', 'year': 2003}}\n"
          ]
        }
      ]
    },
    {
      "cell_type": "code",
      "source": [
        "print(family['child2'])"
      ],
      "metadata": {
        "colab": {
          "base_uri": "https://localhost:8080/"
        },
        "id": "dJySelJHkWBh",
        "outputId": "2f1d9baa-2595-4169-af85-4ae77e139aae"
      },
      "execution_count": 40,
      "outputs": [
        {
          "output_type": "stream",
          "name": "stdout",
          "text": [
            "{'name': 'gothami', 'year': 2003}\n"
          ]
        }
      ]
    },
    {
      "cell_type": "code",
      "source": [
        "print(family[\"child2\"][\"name\"]) #to print name of 2nd child"
      ],
      "metadata": {
        "colab": {
          "base_uri": "https://localhost:8080/"
        },
        "id": "KJGrJMovkxkc",
        "outputId": "9b138747-9104-49c6-9a90-ddf80e339067"
      },
      "execution_count": 42,
      "outputs": [
        {
          "output_type": "stream",
          "name": "stdout",
          "text": [
            "gothami\n"
          ]
        }
      ]
    },
    {
      "cell_type": "code",
      "source": [],
      "metadata": {
        "colab": {
          "base_uri": "https://localhost:8080/"
        },
        "id": "hpAtZCwtk1M9",
        "outputId": "80e54fe2-2531-4d66-9d3f-ca988645d3e9"
      },
      "execution_count": 43,
      "outputs": [
        {
          "output_type": "stream",
          "name": "stdout",
          "text": [
            "this is sai\n"
          ]
        }
      ]
    },
    {
      "cell_type": "code",
      "source": [],
      "metadata": {
        "id": "eekOpqDcrFcB"
      },
      "execution_count": null,
      "outputs": []
    }
  ]
}